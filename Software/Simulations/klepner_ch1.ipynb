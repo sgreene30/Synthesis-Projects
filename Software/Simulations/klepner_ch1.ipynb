{
 "cells": [
  {
   "cell_type": "code",
   "execution_count": 3,
   "id": "736af774",
   "metadata": {},
   "outputs": [],
   "source": [
    "import numpy as np"
   ]
  },
  {
   "cell_type": "code",
   "execution_count": 5,
   "id": "825ba85a",
   "metadata": {},
   "outputs": [],
   "source": [
    "def unit_vector(vector):\n",
    "    \"\"\" Returns the unit vector of the vector.  \"\"\"\n",
    "    return vector / np.linalg.norm(vector)\n",
    "\n",
    "def angle_between(v1, v2):\n",
    "    \"\"\" Returns the angle in radians between vectors 'v1' and 'v2'::\n",
    "\n",
    "            >>> angle_between((1, 0, 0), (0, 1, 0))\n",
    "            1.5707963267948966\n",
    "            >>> angle_between((1, 0, 0), (1, 0, 0))\n",
    "            0.0\n",
    "            >>> angle_between((1, 0, 0), (-1, 0, 0))\n",
    "            3.141592653589793\n",
    "    \"\"\"\n",
    "    v1_u = unit_vector(v1)\n",
    "    v2_u = unit_vector(v2)\n",
    "    return np.arccos(np.clip(np.dot(v1_u, v2_u), -1.0, 1.0))"
   ]
  },
  {
   "cell_type": "code",
   "execution_count": 3,
   "id": "c34f3204",
   "metadata": {},
   "outputs": [
    {
     "name": "stdout",
     "output_type": "stream",
     "text": [
      "21\n",
      "[-13  31  17]\n"
     ]
    }
   ],
   "source": [
    "#1.1\n",
    "A=[2, -3, 7]\n",
    "B=[5, 1, 2]\n",
    "\n",
    "print(np.dot(A, B))\n",
    "print(np.cross(A, B))"
   ]
  },
  {
   "cell_type": "code",
   "execution_count": 4,
   "id": "994778b4",
   "metadata": {},
   "outputs": [
    {
     "name": "stdout",
     "output_type": "stream",
     "text": [
      "38\n",
      "101\n",
      "2704\n"
     ]
    }
   ],
   "source": [
    "#1.2\n",
    "A=[3, -2, 5]\n",
    "B=[6, -7, 4]\n",
    "\n",
    "print(np.dot(A, A))\n",
    "print(np.dot(B, B))\n",
    "print(np.dot(A, B)**2)"
   ]
  },
  {
   "cell_type": "code",
   "execution_count": 7,
   "id": "a8ce5699",
   "metadata": {},
   "outputs": [
    {
     "name": "stdout",
     "output_type": "stream",
     "text": [
      "-0.49236596391733084\n",
      "-0.492365963917331\n"
     ]
    }
   ],
   "source": [
    "#1.3\n",
    "A=[3, 1, 1]\n",
    "B=[-2, 1, 1]\n",
    "\n",
    "theta = angle_between(A, B)\n",
    "\n",
    "print(np.cos(theta))\n",
    "print(-4/np.sqrt(6)/np.sqrt(11))"
   ]
  },
  {
   "cell_type": "code",
   "execution_count": 4,
   "id": "483eca70",
   "metadata": {},
   "outputs": [
    {
     "name": "stdout",
     "output_type": "stream",
     "text": [
      "[0.         0.         0.00666667]\n"
     ]
    }
   ],
   "source": [
    "r=[1/15, -1/10, 0]\n",
    "v=[4/15, -3/10, 0]\n",
    "\n",
    "cross = np.cross(r, v)\n",
    "print(cross)"
   ]
  }
 ],
 "metadata": {
  "kernelspec": {
   "display_name": ".venv",
   "language": "python",
   "name": "python3"
  },
  "language_info": {
   "codemirror_mode": {
    "name": "ipython",
    "version": 3
   },
   "file_extension": ".py",
   "mimetype": "text/x-python",
   "name": "python",
   "nbconvert_exporter": "python",
   "pygments_lexer": "ipython3",
   "version": "3.13.1"
  }
 },
 "nbformat": 4,
 "nbformat_minor": 5
}
